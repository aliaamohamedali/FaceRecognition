{
 "cells": [
  {
   "cell_type": "code",
   "execution_count": 1,
   "metadata": {
    "colab": {},
    "colab_type": "code",
    "id": "4SUfjJDSZ2E7"
   },
   "outputs": [],
   "source": [
    "from matplotlib.pyplot import imread\n",
    "import matplotlib.image as mpimg\n",
    "import matplotlib.pyplot as plt\n",
    "from itertools import compress\n",
    "import numpy as np\n",
    "import datetime\n",
    "import zipfile\n",
    "import bisect\n",
    "import os\n",
    "import re"
   ]
  },
  {
   "cell_type": "code",
   "execution_count": 2,
   "metadata": {},
   "outputs": [],
   "source": [
    "from sklearn.neighbors import KNeighborsClassifier\n",
    "from sklearn.metrics import accuracy_score, precision_score, recall_score"
   ]
  },
  {
   "cell_type": "markdown",
   "metadata": {},
   "source": [
    "## **1. Download the dataset and understand the format (10 Points)**"
   ]
  },
  {
   "cell_type": "code",
   "execution_count": 3,
   "metadata": {
    "colab": {},
    "colab_type": "code",
    "id": "ov6NRXedZ4nn"
   },
   "outputs": [],
   "source": [
    "#unzipped = zipfile.ZipFile(\"orl_faces.zip\", 'r')\n",
    "#unzipped.extractall()"
   ]
  },
  {
   "cell_type": "markdown",
   "metadata": {
    "colab_type": "text",
    "id": "0q6AI1DTrcPR"
   },
   "source": [
    "## **2. Generate the Data Matrix and the Label vector (10 Points)**"
   ]
  },
  {
   "cell_type": "code",
   "execution_count": 4,
   "metadata": {
    "colab": {},
    "colab_type": "code",
    "id": "Kdtwwxq3aDDH"
   },
   "outputs": [],
   "source": [
    "data = []\n",
    "labels = []\n",
    "maindir = \"orl_faces\"\n",
    "\n",
    "for subdir in os.listdir(maindir):\n",
    "    if (subdir == \"README\"):\n",
    "        continue\n",
    "    path = os.path.join(maindir, subdir)\n",
    "    for pic in os.listdir(path):\n",
    "        labels.append(int(re.sub(\"s\", \"\", subdir)))\n",
    "        img_path = os.path.join(path, pic)\n",
    "        image = imread(img_path, format = \"pgm\")\n",
    "        x,y = image.shape\n",
    "        image = image.reshape(x*y)\n",
    "        data.append(image)\n",
    "    \n",
    "data = np.array(data)"
   ]
  },
  {
   "cell_type": "markdown",
   "metadata": {
    "colab_type": "text",
    "id": "wMJns0Nmspcv"
   },
   "source": [
    "## **3. Split the Dataset into Training and Test sets (10 Points)**"
   ]
  },
  {
   "cell_type": "code",
   "execution_count": 5,
   "metadata": {},
   "outputs": [],
   "source": [
    "mask = ([False] * 5 + [True] * 5) * 40\n",
    "\n",
    "X_train = np.array(list(compress(data, mask)))\n",
    "y_train = np.array(list(compress(labels, mask)))\n",
    "\n",
    "X_test = np.array(list(compress(data, np.invert(mask))))\n",
    "y_test = np.array(list(compress(labels, np.invert(mask))))"
   ]
  },
  {
   "cell_type": "markdown",
   "metadata": {
    "colab_type": "text",
    "id": "rvZuK-OG1P2i"
   },
   "source": [
    "## **4. Classification using PCA.(30 points)**"
   ]
  },
  {
   "cell_type": "code",
   "execution_count": 6,
   "metadata": {
    "colab": {},
    "colab_type": "code",
    "id": "tdy2l6zn0-e6"
   },
   "outputs": [],
   "source": [
    "class PCA():\n",
    "    def __init__(self):\n",
    "        self.explained_variances = None\n",
    "        self.cumulative_sum = None\n",
    "        self.sorted_eigenvectors = None\n",
    "   \n",
    "    def solve(self, X_train):\n",
    "        n = X_train.shape[0]\n",
    "        means = np.mean(X_train, axis = 0)                                #1\n",
    "        centered_data = X_train - means                                   #2\n",
    "        covariance = np.dot(centered_data.T, centered_data)/n             #3\n",
    "        \n",
    "        print (str(datetime.datetime.now()), \" -- covariance done\")\n",
    "        eigenvalues, eigenvectors = np.linalg.eigh(covariance)       #4, 5\n",
    "        print (str(datetime.datetime.now()), \" -- eigenvectors done\")\n",
    "        \n",
    "        self.explained_variances, self.sorted_eigenvectors = np.flip(eigenvalues, axis = 0), np.flip(eigenvectors, axis = 1)\n",
    "    \n",
    "        self.cumulative_sum = np.cumsum(self.explained_variances) / np.sum(self.explained_variances)  #6\n",
    "    \n",
    "    \n",
    "    def get_projection_matrix(self, alpha):\n",
    "        stop_index = bisect.bisect(self.cumulative_sum, alpha)\n",
    "        return self.sorted_eigenvectors[:, 0:stop_index]\n",
    "      "
   ]
  },
  {
   "cell_type": "code",
   "execution_count": 7,
   "metadata": {
    "colab": {},
    "colab_type": "code",
    "id": "37Ncli5b61kZ"
   },
   "outputs": [
    {
     "name": "stdout",
     "output_type": "stream",
     "text": [
      "2019-03-07 23:00:57.651951  -- covariance done\n",
      "2019-03-07 23:02:47.107605  -- eigenvectors done\n"
     ]
    }
   ],
   "source": [
    "pca = PCA()\n",
    "pca.solve(X_train)"
   ]
  },
  {
   "cell_type": "code",
   "execution_count": 8,
   "metadata": {
    "colab": {},
    "colab_type": "code",
    "id": "NCEJLkRZCiV0"
   },
   "outputs": [
    {
     "name": "stdout",
     "output_type": "stream",
     "text": [
      "1.0000000000000004\n",
      "(10304, 36)\n",
      "(10304, 52)\n",
      "(10304, 76)\n",
      "(10304, 116)\n"
     ]
    }
   ],
   "source": [
    "print(pca.cumulative_sum[-1])\n",
    "alpha_values = [0.8, 0.85, 0.9, 0.95]\n",
    "for alpha in alpha_values:\n",
    "    projection_matrix = pca.get_projection_matrix(alpha)\n",
    "    print(projection_matrix.shape)"
   ]
  },
  {
   "cell_type": "markdown",
   "metadata": {
    "colab_type": "text",
    "id": "sRkvWwC-C-Yk"
   },
   "source": [
    "## **5. Classification using LDA(30 points)**"
   ]
  },
  {
   "cell_type": "code",
   "execution_count": 9,
   "metadata": {
    "colab": {},
    "colab_type": "code",
    "id": "ooxOROSsDACk"
   },
   "outputs": [],
   "source": [
    "class LDA():\n",
    "    def __init__(self):\n",
    "        self.scatter_b = None\n",
    "        self.scatter_w = None\n",
    "        self.dominant_eigenvectors = None\n",
    "        \n",
    "    def solve(self, x_train, y_train, num_vectors):\n",
    "        n, m = x_train.shape[0], x_train.shape[1]\n",
    "        unique_classes = np.unique(y_train)\n",
    "        \n",
    "        total_mean = np.mean(x_train, axis = 0)\n",
    "        means = np.zeros((unique_classes.size, m))\n",
    "        nks = np.zeros(unique_classes.size)\n",
    "        self.scatter_w = np.zeros((m, m))\n",
    "\n",
    "        for label, c in zip(unique_classes, range(unique_classes.size)):\n",
    "            class_examples = x_train[y_train == label]\n",
    "            nks[c] = class_examples.shape[0]\n",
    "            means[c] = np.mean(class_examples, axis = 0)\n",
    "            centered_data = np.matrix(class_examples - means[c])\n",
    "            self.scatter_w += np.matmul(centered_data.T, centered_data)\n",
    "            \n",
    "        print (str(datetime.datetime.now()), \" -- loops done\")\n",
    "        normalized_means = np.matrix(means - total_mean).T\n",
    "        self.scatter_b = np.matmul(np.multiply(nks.T, normalized_means), normalized_means.T)\n",
    "               \n",
    "        print (str(datetime.datetime.now()), \" -- scatter_b done\")\n",
    "        s_inv = np.linalg.pinv(self.scatter_w)\n",
    "        print (str(datetime.datetime.now()), \" -- inverse done\")\n",
    "        eigenvalues, eigenvectors = np.linalg.eig(np.matmul(s_inv, self.scatter_b))\n",
    "        print (str(datetime.datetime.now()), \" -- eigenvectors done\")\n",
    "        \n",
    "        indices = np.flip(np.argsort(eigenvalues), axis = 0)[0:num_vectors]\n",
    "        self.dominant_eigenvectors = eigenvectors[:, indices]            "
   ]
  },
  {
   "cell_type": "code",
   "execution_count": 10,
   "metadata": {},
   "outputs": [
    {
     "name": "stdout",
     "output_type": "stream",
     "text": [
      "2019-03-07 23:03:38.339167  -- loops done\n",
      "2019-03-07 23:03:38.883678  -- scatter_b done\n",
      "2019-03-07 23:10:38.166431  -- inverse done\n",
      "2019-03-07 23:17:31.197203  -- eigenvectors done\n"
     ]
    }
   ],
   "source": [
    "num_vectors = 39\n",
    "lda = LDA()\n",
    "lda.solve(X_train, y_train, num_vectors)"
   ]
  },
  {
   "cell_type": "markdown",
   "metadata": {},
   "source": [
    "## 6. Classifier Tuning (20 points)\n"
   ]
  },
  {
   "cell_type": "markdown",
   "metadata": {},
   "source": [
    "### For PCA"
   ]
  },
  {
   "cell_type": "code",
   "execution_count": 12,
   "metadata": {},
   "outputs": [
    {
     "name": "stdout",
     "output_type": "stream",
     "text": [
      "(10304, 36)\n",
      "(10304, 52)\n",
      "(10304, 76)\n",
      "(10304, 116)\n"
     ]
    }
   ],
   "source": [
    "alpha_values = [0.8, 0.85, 0.9, 0.95]\n",
    "k_values = [1, 3, 5, 7]\n",
    "train_scores = np.zeros((len(alpha_values), len(k_values)))\n",
    "test_scores = np.zeros((len(alpha_values), len(k_values)))\n",
    "for i in range(len(alpha_values)):\n",
    "    projection_matrix = pca.get_projection_matrix(alpha_values[i])\n",
    "    \n",
    "    #projection_matrix = pca.sorted_eigenvectors\n",
    "    print(projection_matrix.shape)\n",
    "    projected_train_data = np.matmul(X_train, projection_matrix)\n",
    "    projected_test_data = np.matmul(X_test, projection_matrix)\n",
    "    \n",
    "    for k in range(len(k_values)):\n",
    "        knn = KNeighborsClassifier(n_neighbors = k_values[k])\n",
    "        knn.fit(projected_train_data, y_train)\n",
    "        \n",
    "        train_predictions = knn.predict(projected_train_data)\n",
    "        test_predictions = knn.predict(projected_test_data)\n",
    "        \n",
    "        train_scores[i,k] = accuracy_score(y_train, train_predictions)\n",
    "        test_scores[i,k] = accuracy_score(y_test, test_predictions)"
   ]
  },
  {
   "cell_type": "code",
   "execution_count": 13,
   "metadata": {},
   "outputs": [
    {
     "name": "stdout",
     "output_type": "stream",
     "text": [
      "[[1.    0.95  0.935 0.85 ]\n",
      " [1.    0.95  0.915 0.87 ]\n",
      " [1.    0.95  0.905 0.855]\n",
      " [1.    0.955 0.895 0.85 ]]\n",
      "[[0.925 0.825 0.765 0.725]\n",
      " [0.925 0.825 0.78  0.72 ]\n",
      " [0.935 0.815 0.785 0.73 ]\n",
      " [0.935 0.83  0.8   0.735]]\n"
     ]
    }
   ],
   "source": [
    "print(train_scores)\n",
    "print(test_scores)"
   ]
  },
  {
   "cell_type": "code",
   "execution_count": 56,
   "metadata": {},
   "outputs": [
    {
     "data": {
      "text/plain": [
       "Text(0,0.5,'Accuracy')"
      ]
     },
     "execution_count": 56,
     "metadata": {},
     "output_type": "execute_result"
    },
    {
     "data": {
      "image/png": "[encoded data removed]",
      "text/plain": [
       "<matplotlib.figure.Figure at 0x1ee3db93f60>"
      ]
     },
     "metadata": {
      "needs_background": "light"
     },
     "output_type": "display_data"
    }
   ],
   "source": [
    "plt.scatter([1, 3, 5, 7], [0.925, 0.825, 0.765, 0.725])\n",
    "plt.scatter([1, 3, 5, 7], [0.925, 0.825, 0.78,  0.72])\n",
    "plt.scatter([1, 3, 5, 7], [0.935, 0.815, 0.785, 0.73])\n",
    "plt.scatter([1, 3, 5, 7], [0.935, 0.83,  0.8, 0.735])\n",
    "plt.legend(['0.8','0.85', '0.9', '0.95'])\n",
    "plt.xlabel('k')\n",
    "plt.ylabel('Accuracy')"
   ]
  },
  {
   "cell_type": "code",
   "execution_count": 57,
   "metadata": {},
   "outputs": [
    {
     "data": {
      "text/plain": [
       "Text(0,0.5,'Accuracy')"
      ]
     },
     "execution_count": 57,
     "metadata": {},
     "output_type": "execute_result"
    },
    {
     "data": {
      "image/png": "[encoded data removed]",
      "text/plain": [
       "<matplotlib.figure.Figure at 0x1ee3dc233c8>"
      ]
     },
     "metadata": {
      "needs_background": "light"
     },
     "output_type": "display_data"
    }
   ],
   "source": [
    "plt.scatter([0.8, 0.85, 0.9, 0.95], [0.925, 0.825, 0.765, 0.725])\n",
    "plt.scatter([0.8, 0.85, 0.9, 0.95], [0.925, 0.825, 0.78,  0.72])\n",
    "plt.scatter([0.8, 0.85, 0.9, 0.95], [0.935, 0.815, 0.785, 0.73])\n",
    "plt.scatter([0.8, 0.85, 0.9, 0.95], [0.935, 0.83,  0.8, 0.735])\n",
    "plt.legend(['k=1','k=3', 'k=5', 'k=7'])\n",
    "plt.xlabel('alpha')\n",
    "plt.ylabel('Accuracy')"
   ]
  },
  {
   "cell_type": "markdown",
   "metadata": {},
   "source": [
    "### For LDA"
   ]
  },
  {
   "cell_type": "code",
   "execution_count": 17,
   "metadata": {},
   "outputs": [
    {
     "data": {
      "text/plain": [
       "(200, 39)"
      ]
     },
     "execution_count": 17,
     "metadata": {},
     "output_type": "execute_result"
    }
   ],
   "source": [
    "projected_train_data = np.dot(X_train, lda.dominant_eigenvectors)\n",
    "projected_train_data.shape\n",
    "\n",
    "projected_test_data = np.dot(X_test, lda.dominant_eigenvectors)\n",
    "projected_test_data.shape"
   ]
  },
  {
   "cell_type": "code",
   "execution_count": 19,
   "metadata": {},
   "outputs": [
    {
     "name": "stderr",
     "output_type": "stream",
     "text": [
      "D:\\Users\\AbdElRahman\\Anaconda3\\lib\\site-packages\\numpy\\core\\numeric.py:492: ComplexWarning: Casting complex values to real discards the imaginary part\n",
      "  return array(a, dtype, copy=False, order=order)\n",
      "D:\\Users\\AbdElRahman\\Anaconda3\\lib\\site-packages\\sklearn\\utils\\validation.py:433: ComplexWarning: Casting complex values to real discards the imaginary part\n",
      "  array = np.array(array, dtype=dtype, order=order, copy=copy)\n"
     ]
    }
   ],
   "source": [
    "k_values = [1, 3, 5, 7, 9]\n",
    "train_scores = []\n",
    "test_scores = []\n",
    "for k in k_values:\n",
    "    knn = KNeighborsClassifier(n_neighbors = k)\n",
    "    knn = knn.fit(projected_train_data, y_train)\n",
    "    \n",
    "    train_predictions = knn.predict(projected_train_data)\n",
    "    test_predictions = knn.predict(projected_test_data)\n",
    "    \n",
    "    train_scores.append(accuracy_score(y_train, train_predictions))\n",
    "    test_scores.append(accuracy_score(y_test, test_predictions))"
   ]
  },
  {
   "cell_type": "code",
   "execution_count": 55,
   "metadata": {},
   "outputs": [
    {
     "name": "stdout",
     "output_type": "stream",
     "text": [
      "[1.0, 0.86, 0.865, 0.865, 0.875]\n",
      "[0.84, 0.8, 0.815, 0.79, 0.78]\n"
     ]
    },
    {
     "data": {
      "text/plain": [
       "Text(0,0.5,'Accuracy')"
      ]
     },
     "execution_count": 55,
     "metadata": {},
     "output_type": "execute_result"
    },
    {
     "data": {
      "image/png": "[encoded data removed]",
      "text/plain": [
       "<matplotlib.figure.Figure at 0x1ee3bbcd358>"
      ]
     },
     "metadata": {
      "needs_background": "light"
     },
     "output_type": "display_data"
    }
   ],
   "source": [
    "print(train_scores)\n",
    "print(test_scores)\n",
    "plt.scatter([1, 3, 5, 7, 9], test_scores)\n",
    "plt.xlabel('k')\n",
    "plt.ylabel('Accuracy')"
   ]
  },
  {
   "cell_type": "markdown",
   "metadata": {},
   "source": [
    "## 7. BONUS (20 Points)"
   ]
  },
  {
   "cell_type": "markdown",
   "metadata": {},
   "source": [
    "#### a. [5 points] Use different Training and Test splits. Change the number of instances per subject to be 7 and keep 3 instances per subject for testing. compare the results you have with the ones you got earlier with 50% split."
   ]
  },
  {
   "cell_type": "code",
   "execution_count": 21,
   "metadata": {},
   "outputs": [],
   "source": [
    "mask = ([True] * 7 + [False] * 3) * 40\n",
    "\n",
    "X_train_bonus = np.array(list(compress(data, mask)))\n",
    "y_train_bonus = np.array(list(compress(labels, mask)))\n",
    "\n",
    "X_test_bonus = np.array(list(compress(data, np.invert(mask))))\n",
    "y_test_bonus = np.array(list(compress(labels, np.invert(mask))))"
   ]
  },
  {
   "cell_type": "code",
   "execution_count": 22,
   "metadata": {},
   "outputs": [
    {
     "name": "stdout",
     "output_type": "stream",
     "text": [
      "2019-03-07 23:25:12.693694  -- covariance done\n",
      "2019-03-07 23:27:04.588816  -- eigenvectors done\n"
     ]
    }
   ],
   "source": [
    "pca_bonus = PCA()\n",
    "pca_bonus.solve(X_train_bonus)"
   ]
  },
  {
   "cell_type": "code",
   "execution_count": 23,
   "metadata": {},
   "outputs": [
    {
     "data": {
      "text/plain": [
       "(280, 26)"
      ]
     },
     "execution_count": 23,
     "metadata": {},
     "output_type": "execute_result"
    }
   ],
   "source": [
    "alpha_bonus = 0.75\n",
    "projection_matrix_bonus = pca_bonus.get_projection_matrix(alpha_bonus)\n",
    "projected_train_data_bonus = np.matmul(X_train_bonus, projection_matrix_bonus)\n",
    "projected_test_data_bonus = np.matmul(X_test_bonus, projection_matrix_bonus)\n",
    "\n",
    "projected_train_data_bonus.shape"
   ]
  },
  {
   "cell_type": "code",
   "execution_count": 24,
   "metadata": {},
   "outputs": [],
   "source": [
    "k_bonus = 1\n",
    "knn_bonus = KNeighborsClassifier(n_neighbors = k_bonus)\n",
    "knn_bonus.fit(projected_train_data_bonus, y_train_bonus)\n",
    "\n",
    "train_predictions_bonus = knn_bonus.predict(projected_train_data_bonus)\n",
    "test_predictions_bonus = knn_bonus.predict(projected_test_data_bonus)\n",
    "\n",
    "train_scores_bonus = accuracy_score(y_train_bonus, train_predictions_bonus)\n",
    "test_scores_bonus = accuracy_score(y_test_bonus, test_predictions_bonus)"
   ]
  },
  {
   "cell_type": "code",
   "execution_count": 25,
   "metadata": {},
   "outputs": [
    {
     "name": "stdout",
     "output_type": "stream",
     "text": [
      "1.0\n",
      "0.9583333333333334\n"
     ]
    }
   ],
   "source": [
    "print(train_scores_bonus)\n",
    "print(test_scores_bonus)"
   ]
  },
  {
   "cell_type": "markdown",
   "metadata": {},
   "source": [
    "#### b. [15 points] Download non-face images and make them of same size 92x112. and try to solve the classification problem faces vs. Non-faces.\n",
    "#####             i. Show failure and success cases.\n",
    "#####             ii. How many dominant eigenvectors will you use for the LDA solution?\n",
    "#####             iii. Plot the accuracy vs the number of non-faces images while fixing the number of face images.\n",
    "#####             iv. Criticize the accuracy measure for large numbers of non-faces images in the training data."
   ]
  },
  {
   "cell_type": "code",
   "execution_count": 58,
   "metadata": {},
   "outputs": [],
   "source": [
    "from PIL import Image "
   ]
  },
  {
   "cell_type": "code",
   "execution_count": 59,
   "metadata": {},
   "outputs": [
    {
     "name": "stdout",
     "output_type": "stream",
     "text": [
      "(400, 10304)\n"
     ]
    }
   ],
   "source": [
    "path_bonus = \"not_faces\"\n",
    "width, height = 112, 92\n",
    "data_bonus = []\n",
    "\n",
    "for pic in os.listdir(path_bonus):\n",
    "    img_path = os.path.join(path_bonus, pic)\n",
    "    img = Image.open(img_path)\n",
    "    img = img.resize((width, height))\n",
    "    img = img.convert('L')\n",
    "    image = np.array(img.getdata())\n",
    "    data_bonus.append(image)\n",
    "    \n",
    "data_bonus = np.array(data_bonus)    \n",
    "print(data_bonus.shape)"
   ]
  },
  {
   "cell_type": "code",
   "execution_count": 60,
   "metadata": {},
   "outputs": [
    {
     "name": "stdout",
     "output_type": "stream",
     "text": [
      "(800, 10304)\n"
     ]
    }
   ],
   "source": [
    "label_dict = {1: \"Face\", 0: \"Other\"}\n",
    "labels_bonus = [1] * 400 + [0] * 400\n",
    "all_data = np.concatenate((data, data_bonus))\n",
    "print(all_data.shape)"
   ]
  },
  {
   "cell_type": "code",
   "execution_count": 61,
   "metadata": {},
   "outputs": [],
   "source": [
    "mask = ([True] * 300 + [False] * 100) * 2\n",
    "\n",
    "X_train_bonus2 = np.array(list(compress(all_data, mask)))\n",
    "y_train_bonus2 = np.array(list(compress(labels_bonus, mask)))\n",
    "\n",
    "X_test_bonus2 = np.array(list(compress(all_data, np.invert(mask))))\n",
    "y_test_bonus2 = np.array(list(compress(labels_bonus, np.invert(mask))))"
   ]
  },
  {
   "cell_type": "code",
   "execution_count": null,
   "metadata": {},
   "outputs": [
    {
     "name": "stdout",
     "output_type": "stream",
     "text": [
      "2019-03-07 23:44:55.546530  -- loops done\n",
      "2019-03-07 23:44:56.094064  -- scatter_b done\n"
     ]
    }
   ],
   "source": [
    "num_vectors = 40\n",
    "lda_bonus = LDA()\n",
    "lda_bonus.solve(X_train_bonus2, y_train_bonus2, num_vectors)"
   ]
  },
  {
   "cell_type": "code",
   "execution_count": null,
   "metadata": {},
   "outputs": [],
   "source": [
    "print(lda_bonus.dominant_eigenvectors)"
   ]
  },
  {
   "cell_type": "code",
   "execution_count": null,
   "metadata": {},
   "outputs": [],
   "source": [
    "from sklearn.linear_model import LogisticRegression\n",
    "from sklearn.svm import SVC"
   ]
  },
  {
   "cell_type": "code",
   "execution_count": null,
   "metadata": {},
   "outputs": [],
   "source": [
    "projected_train_data = np.matmul(X_train_bonus2, lda_bonus.dominant_eigenvectors)\n",
    "projected_test_data = np.matmul(X_test_bonus2, lda_bonus.dominant_eigenvectors)\n",
    "\n",
    "svm = SVC().fit(projected_train_data, y_train_bonus2)\n",
    "lr = LogisticRegression().fit(projected_train_data, y_train_bonus2)\n",
    "\n",
    "svm_train_predictions = svm.predict(projected_train_data)\n",
    "lr_train_predictions = lr.predict(projected_train_data)\n",
    "\n",
    "svm_test_predictions = svm.predict(projected_test_data)\n",
    "lr_test_predictions = lr.predict(projected_test_data)\n",
    "\n",
    "print(\"Train Results: svm\")\n",
    "print(accuracy_score(y_train_bonus2, svm_train_predictions))\n",
    "print(precision_score(y_train_bonus2, svm_train_predictions))\n",
    "print(recall_score(y_train_bonus2, svm_train_predictions))\n",
    "\n",
    "print(\"Test Results: svm\")\n",
    "print(accuracy_score(y_test_bonus2, svm_test_predictions))\n",
    "print(precision_score(y_test_bonus2, svm_test_predictions))\n",
    "print(recall_score(y_test_bonus2, svm_test_predictions))\n",
    "\n",
    "print(\"Train Results: lr\")\n",
    "print(accuracy_score(y_train_bonus2, lr_train_predictions))\n",
    "print(precision_score(y_train_bonus2, lr_train_predictions))\n",
    "print(recall_score(y_train_bonus2, lr_train_predictions))\n",
    "\n",
    "print(\"Test Results: lr\")\n",
    "print(accuracy_score(y_test_bonus2, lr_test_predictions))\n",
    "print(precision_score(y_test_bonus2, lr_test_predictions))\n",
    "print(recall_score(y_test_bonus2, lr_test_predictions))"
   ]
  },
  {
   "cell_type": "markdown",
   "metadata": {},
   "source": [
    "# Testing "
   ]
  },
  {
   "cell_type": "code",
   "execution_count": null,
   "metadata": {},
   "outputs": [],
   "source": [
    "ls"
   ]
  },
  {
   "cell_type": "code",
   "execution_count": null,
   "metadata": {},
   "outputs": [],
   "source": [
    "width, height = 112, 92\n",
    "img = Image.open(\"not_faces\\\\000000452515.jpg\") # open colour image\n",
    "img_resized = img.resize((width, height))\n",
    "img_resized.show()\n",
    "img_greyscale = img_resized.convert('L')\n",
    "img_greyscale.show()"
   ]
  },
  {
   "cell_type": "code",
   "execution_count": null,
   "metadata": {},
   "outputs": [],
   "source": [
    "cd notFaces"
   ]
  },
  {
   "cell_type": "code",
   "execution_count": null,
   "metadata": {},
   "outputs": [],
   "source": [
    "ls"
   ]
  },
  {
   "cell_type": "code",
   "execution_count": null,
   "metadata": {},
   "outputs": [],
   "source": [
    "cd .."
   ]
  },
  {
   "cell_type": "code",
   "execution_count": null,
   "metadata": {},
   "outputs": [],
   "source": [
    "x = np.array([[1, 2, 3, 4, 5],\n",
    "     [6, 7, 8, 9, 10]])\n",
    "y = np.array([1, 1, 2, 1, 2])\n",
    "x - y"
   ]
  },
  {
   "cell_type": "code",
   "execution_count": null,
   "metadata": {},
   "outputs": [],
   "source": [
    "x = np.random.normal(0, 1, 500)\n",
    "y = np.random.normal(0, 1, 500)\n",
    "X = np.vstack((x, y)).T\n",
    "np.cov(X)"
   ]
  },
  {
   "cell_type": "code",
   "execution_count": null,
   "metadata": {},
   "outputs": [],
   "source": [
    "a = np.array([[1, 2, 3],\n",
    "     [4, 5, 6]])"
   ]
  }
 ],
 "metadata": {
  "colab": {
   "collapsed_sections": [],
   "name": "Untitled0.ipynb",
   "provenance": [],
   "toc_visible": true,
   "version": "0.3.2"
  },
  "kernelspec": {
   "display_name": "Python 3",
   "language": "python",
   "name": "python3"
  },
  "language_info": {
   "codemirror_mode": {
    "name": "ipython",
    "version": 3
   },
   "file_extension": ".py",
   "mimetype": "text/x-python",
   "name": "python",
   "nbconvert_exporter": "python",
   "pygments_lexer": "ipython3",
   "version": "3.6.4"
  }
 },
 "nbformat": 4,
 "nbformat_minor": 1
}
